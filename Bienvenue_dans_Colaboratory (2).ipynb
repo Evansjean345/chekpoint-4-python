{
  "cells": [
    {
      "cell_type": "code",
      "source": [
        "#uestion 1\n",
        "\n",
        "def maxof():\n",
        "  nbr1= int(input(\"entrer un 1er nombre\"))\n",
        "  nbr2= int(input(\"entrer un 2e nombre\"))\n",
        "  nbr3= int(input(\"entrer un 3e nombre\"))\n",
        "\n",
        "  max = 0\n",
        "\n",
        "  if nbr1 > nbr2:\n",
        "    max = nbr1\n",
        "  else:\n",
        "    max = nbr2\n",
        "  if max < nbr3:\n",
        "    max = nbr3\n",
        "  else:\n",
        "    max = max   \n",
        "  print(f'le maximum de mes 3 nombres ({nbr1},{nbr2},{nbr3}) est : {max}')\n",
        "\n",
        "maxof()  "
      ],
      "metadata": {
        "id": "fUEQHSJqwYAe",
        "outputId": "a81d9ac5-c2cc-4117-c324-2a31d5aa1ab9",
        "colab": {
          "base_uri": "https://localhost:8080/"
        }
      },
      "execution_count": 6,
      "outputs": [
        {
          "output_type": "stream",
          "name": "stdout",
          "text": [
            "entrer un 1er nombre4\n",
            "entrer un 2e nombre8\n",
            "entrer un 3e nombre9\n",
            "le maximum de mes 3 nombres (4,8,9) est : 9\n"
          ]
        }
      ]
    },
    {
      "cell_type": "code",
      "source": [
        "#question 2\n",
        "\n",
        "def calcul():\n",
        "    number1=int(input(\"entrer un 1er nombre\"))\n",
        "    number2=int(input(\"entrer un 2e nombre\"))\n",
        "    sum_and_substract= (number1 + number2),(number1 - number2)\n",
        "    print(f\" le resulta de la somme et la soustraction de mes nombres ({number1} et {number2}) est: {sum_and_substract}\")\n",
        "\n",
        "calcul()"
      ],
      "metadata": {
        "id": "wJnKVMTIpRG5",
        "outputId": "6e4b459c-b66e-49cf-ac61-b8bdf9fa7453",
        "colab": {
          "base_uri": "https://localhost:8080/"
        }
      },
      "execution_count": 10,
      "outputs": [
        {
          "output_type": "stream",
          "name": "stdout",
          "text": [
            "entrer un 1er nombre40\n",
            "entrer un 2e nombre10\n",
            " le resulta de la somme et la soustraction de mes nombres (40 et 10) est: (50, 30)\n"
          ]
        }
      ]
    },
    {
      "cell_type": "code",
      "source": [
        "#question3\n",
        "\n",
        "my_list_of_color='vert rouge jaune noir blanc'\n",
        "\n",
        "new_list=(\"-\".join(my_list_of_color.split()))\n",
        "\n",
        "print(f\"le renvoi de ma liste est : { new_list}\")"
      ],
      "metadata": {
        "id": "cvcLwp17EcZj",
        "outputId": "98299647-cf7b-4175-b6ad-791ab03c02ca",
        "colab": {
          "base_uri": "https://localhost:8080/"
        }
      },
      "execution_count": 4,
      "outputs": [
        {
          "output_type": "stream",
          "name": "stdout",
          "text": [
            "le renvoi de ma liste est : vert-rouge-jaune-noir-blanc\n"
          ]
        }
      ]
    },
    {
      "cell_type": "code",
      "source": [
        "#question4\n",
        "from operator import mul\n",
        "\n",
        "\n",
        "#function qui additionne tous les elements d'une liste\n",
        "def my_sum():\n",
        "  myList = [4,6 , 8, 4, 5, 34, 7, 8, 9, 10]\n",
        "  sum_of_my_list= sum(myList)\n",
        "\n",
        "  print(f'la somme de ma liste est : {sum_of_my_list}')\n",
        "\n",
        "my_sum()\n",
        "\n",
        "def mult(mul_list):\n",
        "    r = 1\n",
        "    for i in mul_list:\n",
        "        r *= i\n",
        "    return r\n",
        " \n",
        "x = [2,4,5,7,6,8,9]\n",
        "print (f'la multiplication des élements de ma liste est {mult(x)}')\n"
      ],
      "metadata": {
        "id": "8kt6UkrcJeqm",
        "outputId": "9e6f77c1-4970-47a7-8c07-3cf077e5ef25",
        "colab": {
          "base_uri": "https://localhost:8080/"
        }
      },
      "execution_count": 17,
      "outputs": [
        {
          "output_type": "stream",
          "name": "stdout",
          "text": [
            "la somme de ma liste est : 95\n",
            "la multiplication des élements de ma liste est 120960\n"
          ]
        }
      ]
    },
    {
      "cell_type": "code",
      "source": [
        "#question 5\n",
        "\n",
        "from math import *\n",
        "\n",
        "def value():\n",
        "  C=50\n",
        "  H=30\n",
        "  D=C,H\n",
        "  print(f\"voici la valeur de D=(C,H) : {D}\") #nous remarquons ici que D nous renvoie les valeurs respectivent de : (C,H)...\n",
        "                      #...sous forme de tuple() alors pour rendre le calcul coherent je vais effectuer la\n",
        "              #...la somme de mes valeurs  \n",
        "  Q=sqrt(2 * C * sum(D)/H)\n",
        "  #version arrondit du result:\n",
        "  Q2=sqrt(( 2 * C * sum(D)//H ))\n",
        "  \n",
        "  return print(f'la valeur racine carrée de Q est : {Q} , et sa valeur la plus proche est : {Q2}')\n",
        "\n",
        "\n",
        "value()\n",
        "\n"
      ],
      "metadata": {
        "id": "NfvzvGsfsBAC",
        "outputId": "c9b1d41e-219e-4462-b525-6dde835eab79",
        "colab": {
          "base_uri": "https://localhost:8080/"
        }
      },
      "execution_count": 2,
      "outputs": [
        {
          "output_type": "stream",
          "name": "stdout",
          "text": [
            "voici la valeur de D=(C,H) : (50, 30)\n",
            "la valeur racine carrée de Q est : 16.32993161855452 , et sa valeur la plus proche est : 16.30950643030009\n"
          ]
        }
      ]
    }
  ],
  "metadata": {
    "colab": {
      "collapsed_sections": [],
      "name": "Bienvenue dans Colaboratory",
      "toc_visible": true,
      "provenance": []
    },
    "kernelspec": {
      "display_name": "Python 3",
      "name": "python3"
    }
  },
  "nbformat": 4,
  "nbformat_minor": 0
}